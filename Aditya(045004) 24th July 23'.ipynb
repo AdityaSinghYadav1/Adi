{
 "cells": [
  {
   "cell_type": "code",
   "execution_count": null,
   "id": "62aded07",
   "metadata": {},
   "outputs": [],
   "source": [
    "#this is my first code "
   ]
  },
  {
   "cell_type": "code",
   "execution_count": 6,
   "id": "efa77ef7",
   "metadata": {},
   "outputs": [
    {
     "data": {
      "text/plain": [
       "5"
      ]
     },
     "execution_count": 6,
     "metadata": {},
     "output_type": "execute_result"
    }
   ],
   "source": [
    "#addition\n",
    "\n",
    "a=2\n",
    "b=3\n",
    "c= a+b\n",
    "c"
   ]
  },
  {
   "cell_type": "code",
   "execution_count": 20,
   "id": "5f207ca8",
   "metadata": {},
   "outputs": [
    {
     "data": {
      "text/plain": [
       "int"
      ]
     },
     "execution_count": 20,
     "metadata": {},
     "output_type": "execute_result"
    }
   ],
   "source": [
    "#numbers: Integer\n",
    "n_int = 2023\n",
    "type(n_int)\n"
   ]
  },
  {
   "cell_type": "code",
   "execution_count": 10,
   "id": "5b594aea",
   "metadata": {},
   "outputs": [
    {
     "data": {
      "text/plain": [
       "float"
      ]
     },
     "execution_count": 10,
     "metadata": {},
     "output_type": "execute_result"
    }
   ],
   "source": [
    "n_float=9.8\n",
    "type(n_float)"
   ]
  },
  {
   "cell_type": "code",
   "execution_count": 11,
   "id": "ebf3b6cc",
   "metadata": {},
   "outputs": [
    {
     "ename": "NameError",
     "evalue": "name 'nan' is not defined",
     "output_type": "error",
     "traceback": [
      "\u001b[0;31m---------------------------------------------------------------------------\u001b[0m",
      "\u001b[0;31mNameError\u001b[0m                                 Traceback (most recent call last)",
      "Cell \u001b[0;32mIn[11], line 1\u001b[0m\n\u001b[0;32m----> 1\u001b[0m n_nan_float\u001b[38;5;241m=\u001b[39mnan\n\u001b[1;32m      2\u001b[0m \u001b[38;5;28mtype\u001b[39m(n_nan_float)\n",
      "\u001b[0;31mNameError\u001b[0m: name 'nan' is not defined"
     ]
    }
   ],
   "source": [
    "n_nan_float=nan\n",
    "type(n_nan_float)"
   ]
  },
  {
   "cell_type": "code",
   "execution_count": 22,
   "id": "725b06b3",
   "metadata": {},
   "outputs": [
    {
     "data": {
      "text/plain": [
       "str"
      ]
     },
     "execution_count": 22,
     "metadata": {},
     "output_type": "execute_result"
    }
   ],
   "source": [
    "a= 'Hello World' #alphanumeric \n",
    "type(a)"
   ]
  },
  {
   "cell_type": "code",
   "execution_count": 16,
   "id": "13b04f15",
   "metadata": {},
   "outputs": [
    {
     "data": {
      "text/plain": [
       "11"
      ]
     },
     "execution_count": 16,
     "metadata": {},
     "output_type": "execute_result"
    }
   ],
   "source": [
    "n1=4\n",
    "n2=3\n",
    "n3=4\n",
    "n=n1+n2+n3\n",
    "\n"
   ]
  },
  {
   "cell_type": "code",
   "execution_count": 37,
   "id": "01b2964e",
   "metadata": {},
   "outputs": [
    {
     "data": {
      "text/plain": [
       "8"
      ]
     },
     "execution_count": 37,
     "metadata": {},
     "output_type": "execute_result"
    }
   ],
   "source": [
    "power=2**3 #power\n",
    "power"
   ]
  },
  {
   "cell_type": "code",
   "execution_count": 27,
   "id": "0da12d2a",
   "metadata": {},
   "outputs": [
    {
     "data": {
      "text/plain": [
       "str"
      ]
     },
     "execution_count": 27,
     "metadata": {},
     "output_type": "execute_result"
    }
   ],
   "source": [
    "e=\"\"\n",
    "type(e)"
   ]
  },
  {
   "cell_type": "code",
   "execution_count": 33,
   "id": "4c14404e",
   "metadata": {},
   "outputs": [
    {
     "data": {
      "text/plain": [
       "6"
      ]
     },
     "execution_count": 33,
     "metadata": {},
     "output_type": "execute_result"
    }
   ],
   "source": [
    "#string ops\n",
    "a='pyhton'\n",
    "len(a)"
   ]
  },
  {
   "cell_type": "code",
   "execution_count": 54,
   "id": "369fda60",
   "metadata": {},
   "outputs": [
    {
     "data": {
      "text/plain": [
       "'pyth'"
      ]
     },
     "execution_count": 54,
     "metadata": {},
     "output_type": "execute_result"
    }
   ],
   "source": [
    "a='python'\n",
    "a[0]\n",
    "a[1]\n",
    "a[2]\n",
    "a[3]\n",
    "a[4]\n",
    "a[0:-2]"
   ]
  },
  {
   "cell_type": "code",
   "execution_count": 55,
   "id": "f021197e",
   "metadata": {},
   "outputs": [
    {
     "data": {
      "text/plain": [
       "['I', 'Love', 'Python']"
      ]
     },
     "execution_count": 55,
     "metadata": {},
     "output_type": "execute_result"
    }
   ],
   "source": [
    "s1='I Love Python' #list\n",
    "list(s1.split()) "
   ]
  },
  {
   "cell_type": "code",
   "execution_count": 68,
   "id": "7d993f98",
   "metadata": {},
   "outputs": [
    {
     "data": {
      "text/plain": [
       "'I Python'"
      ]
     },
     "execution_count": 68,
     "metadata": {},
     "output_type": "execute_result"
    }
   ],
   "source": [
    "v= 'I', 'Love', 'Python' #for 1st and last words\n",
    "v[0]+\" \"+v[2] "
   ]
  },
  {
   "cell_type": "code",
   "execution_count": null,
   "id": "21412b6c",
   "metadata": {},
   "outputs": [],
   "source": [
    "# ' '\" \" using quotes a.k.a doc string"
   ]
  },
  {
   "cell_type": "code",
   "execution_count": 4,
   "id": "8b06c28d",
   "metadata": {},
   "outputs": [
    {
     "data": {
      "text/plain": [
       "'n'"
      ]
     },
     "execution_count": 4,
     "metadata": {},
     "output_type": "execute_result"
    }
   ],
   "source": [
    "s= \"python\"\n",
    "s[-1]"
   ]
  },
  {
   "cell_type": "code",
   "execution_count": null,
   "id": "3f7b27ca",
   "metadata": {},
   "outputs": [],
   "source": [
    "# CRUD Create, Retreive, Update, Delete\n"
   ]
  },
  {
   "cell_type": "code",
   "execution_count": 11,
   "id": "e39fa3d5",
   "metadata": {},
   "outputs": [
    {
     "name": "stdout",
     "output_type": "stream",
     "text": [
      "pythons\n"
     ]
    }
   ],
   "source": [
    "s= \"python\"\n",
    "print(s.replace(\"python\", \"pythons\")) #How to replace a string "
   ]
  },
  {
   "cell_type": "code",
   "execution_count": 18,
   "id": "63a880cc",
   "metadata": {},
   "outputs": [
    {
     "name": "stdout",
     "output_type": "stream",
     "text": [
      "python\n"
     ]
    }
   ],
   "source": [
    "print(s.replace(\"pythons\",\"pithins\"))"
   ]
  },
  {
   "cell_type": "code",
   "execution_count": 19,
   "id": "95d0fa18",
   "metadata": {},
   "outputs": [
    {
     "name": "stdout",
     "output_type": "stream",
     "text": [
      "pythons\n"
     ]
    }
   ],
   "source": [
    "s1=\"python\"\n",
    "print(s1.replace(\"python\", \"pythons\"))"
   ]
  },
  {
   "cell_type": "code",
   "execution_count": 21,
   "id": "9df4310c",
   "metadata": {},
   "outputs": [
    {
     "name": "stdout",
     "output_type": "stream",
     "text": [
      "pithons\n"
     ]
    }
   ],
   "source": [
    "print(s1.replace(s1,\"pithons\"))"
   ]
  },
  {
   "cell_type": "code",
   "execution_count": 22,
   "id": "cd7a3b22",
   "metadata": {},
   "outputs": [
    {
     "name": "stdout",
     "output_type": "stream",
     "text": [
      "pithons\n"
     ]
    }
   ],
   "source": [
    "print(s1.replace(s1, \"pithons\"))"
   ]
  },
  {
   "cell_type": "code",
   "execution_count": 23,
   "id": "eaa7b6a5",
   "metadata": {},
   "outputs": [
    {
     "name": "stdout",
     "output_type": "stream",
     "text": [
      "pmthons\n"
     ]
    }
   ],
   "source": [
    "print(s1.replace(s1,\"pmthons\"))"
   ]
  },
  {
   "cell_type": "code",
   "execution_count": 31,
   "id": "ed4e0670",
   "metadata": {},
   "outputs": [
    {
     "name": "stdout",
     "output_type": "stream",
     "text": [
      "python\n"
     ]
    }
   ],
   "source": [
    "s=\"python\"\n",
    "s1=s.replace('python', 'python') #update and delete\n",
    "print(s1)"
   ]
  },
  {
   "cell_type": "code",
   "execution_count": null,
   "id": "c84c8874",
   "metadata": {},
   "outputs": [],
   "source": [
    "s=\"pyhton\"\n",
    "s1=s.delete()"
   ]
  },
  {
   "cell_type": "code",
   "execution_count": 32,
   "id": "8ac3c3ef",
   "metadata": {},
   "outputs": [
    {
     "data": {
      "text/plain": [
       "'3.14'"
      ]
     },
     "execution_count": 32,
     "metadata": {},
     "output_type": "execute_result"
    }
   ],
   "source": [
    "n=3.14\n",
    "str(n) # create :changing data type of a number "
   ]
  },
  {
   "cell_type": "code",
   "execution_count": null,
   "id": "2189ac2c",
   "metadata": {},
   "outputs": [],
   "source": [
    "a= 'abcd'\n",
    "b= 'abCd' #find function that will match a and b - questions\n",
    "a==b   #usecasefold\n"
   ]
  },
  {
   "cell_type": "code",
   "execution_count": null,
   "id": "eec65f4e",
   "metadata": {},
   "outputs": [],
   "source": [
    "# python data types "
   ]
  },
  {
   "cell_type": "code",
   "execution_count": 43,
   "id": "726ca84e",
   "metadata": {},
   "outputs": [
    {
     "name": "stdout",
     "output_type": "stream",
     "text": [
      "False\n",
      "True\n",
      "False\n"
     ]
    }
   ],
   "source": [
    "a = True\n",
    "b= not a\n",
    "c= a and b\n",
    "d= a or b\n",
    "e = b and b  #boolean algebra\n",
    "print(c)\n",
    "print(d)\n",
    "print(e)"
   ]
  },
  {
   "cell_type": "code",
   "execution_count": null,
   "id": "080b1ff3",
   "metadata": {},
   "outputs": [],
   "source": [
    "#in, not in, is, not is ---- boolean "
   ]
  },
  {
   "cell_type": "code",
   "execution_count": 45,
   "id": "5f7186f2",
   "metadata": {},
   "outputs": [
    {
     "data": {
      "text/plain": [
       "NoneType"
      ]
     },
     "execution_count": 45,
     "metadata": {},
     "output_type": "execute_result"
    }
   ],
   "source": [
    "v= None\n",
    "type(v) #none data type"
   ]
  },
  {
   "cell_type": "code",
   "execution_count": 46,
   "id": "bfe9bb31",
   "metadata": {},
   "outputs": [
    {
     "data": {
      "text/plain": [
       "str"
      ]
     },
     "execution_count": 46,
     "metadata": {},
     "output_type": "execute_result"
    }
   ],
   "source": [
    "v=\"hey\"\n",
    "type(v)"
   ]
  },
  {
   "cell_type": "code",
   "execution_count": 47,
   "id": "d7faeab1",
   "metadata": {},
   "outputs": [
    {
     "data": {
      "text/plain": [
       "str"
      ]
     },
     "execution_count": 47,
     "metadata": {},
     "output_type": "execute_result"
    }
   ],
   "source": [
    "v=\"\"\n",
    "type(v)"
   ]
  },
  {
   "cell_type": "code",
   "execution_count": 49,
   "id": "e185c491",
   "metadata": {},
   "outputs": [
    {
     "data": {
      "text/plain": [
       "False"
      ]
     },
     "execution_count": 49,
     "metadata": {},
     "output_type": "execute_result"
    }
   ],
   "source": [
    "v1= None  #none data type is different from empty string but output is given is same\n",
    "v2=\"\"\n",
    "v1==v2"
   ]
  },
  {
   "cell_type": "code",
   "execution_count": 51,
   "id": "209c7342",
   "metadata": {},
   "outputs": [
    {
     "data": {
      "text/plain": [
       "' '"
      ]
     },
     "execution_count": 51,
     "metadata": {},
     "output_type": "execute_result"
    }
   ],
   "source": [
    "v3=\" \"\n",
    "v3    #to find none or empty in a text ****"
   ]
  },
  {
   "cell_type": "code",
   "execution_count": null,
   "id": "be6f5f01",
   "metadata": {},
   "outputs": [],
   "source": [
    "# list, tuple, set, dictionary"
   ]
  },
  {
   "cell_type": "code",
   "execution_count": 3,
   "id": "f9e72f29",
   "metadata": {},
   "outputs": [
    {
     "name": "stdout",
     "output_type": "stream",
     "text": [
      "['Apple', 'Banana', 'Apple', 'Cherry']\n"
     ]
    }
   ],
   "source": [
    "list=[\"Apple\",\"Banana\",\"Apple\",\"Cherry\"] #list - Lists are used to store multiple items in a single variable,square brackets,List items are ordered, changeable, and allow duplicate values,A list can contain different data types.\n",
    "print(list)"
   ]
  },
  {
   "cell_type": "code",
   "execution_count": 5,
   "id": "b61f1239",
   "metadata": {},
   "outputs": [
    {
     "name": "stdout",
     "output_type": "stream",
     "text": [
      "[1, 1.1, 2, 2.1]\n"
     ]
    }
   ],
   "source": [
    "l1= [1,1.1,2,2.1]\n",
    "print(l1)"
   ]
  },
  {
   "cell_type": "code",
   "execution_count": 6,
   "id": "59e05bdd",
   "metadata": {},
   "outputs": [
    {
     "data": {
      "text/plain": [
       "list"
      ]
     },
     "execution_count": 6,
     "metadata": {},
     "output_type": "execute_result"
    }
   ],
   "source": [
    "type(l1)"
   ]
  },
  {
   "cell_type": "code",
   "execution_count": 7,
   "id": "6d03c119",
   "metadata": {},
   "outputs": [
    {
     "data": {
      "text/plain": [
       "list"
      ]
     },
     "execution_count": 7,
     "metadata": {},
     "output_type": "execute_result"
    }
   ],
   "source": [
    "l2=[\"a\",\"b\",\"c\"]\n",
    "type(l2)"
   ]
  },
  {
   "cell_type": "code",
   "execution_count": 8,
   "id": "55c710f8",
   "metadata": {},
   "outputs": [
    {
     "data": {
      "text/plain": [
       "list"
      ]
     },
     "execution_count": 8,
     "metadata": {},
     "output_type": "execute_result"
    }
   ],
   "source": [
    "l3=[\"a\", \" \", \"c\"]\n",
    "type(l3)"
   ]
  },
  {
   "cell_type": "code",
   "execution_count": 9,
   "id": "871e2ab6",
   "metadata": {},
   "outputs": [
    {
     "data": {
      "text/plain": [
       "' '"
      ]
     },
     "execution_count": 9,
     "metadata": {},
     "output_type": "execute_result"
    }
   ],
   "source": [
    "l3[1]"
   ]
  },
  {
   "cell_type": "code",
   "execution_count": 13,
   "id": "ce4a32f0",
   "metadata": {
    "scrolled": true
   },
   "outputs": [
    {
     "ename": "SyntaxError",
     "evalue": "invalid syntax (3732817284.py, line 1)",
     "output_type": "error",
     "traceback": [
      "\u001b[0;36m  Cell \u001b[0;32mIn[13], line 1\u001b[0;36m\u001b[0m\n\u001b[0;31m    l4=[True, False,and, or, not]\u001b[0m\n\u001b[0m                    ^\u001b[0m\n\u001b[0;31mSyntaxError\u001b[0m\u001b[0;31m:\u001b[0m invalid syntax\n"
     ]
    }
   ],
   "source": [
    "l4=[True, False, and, or, not] #and, not,or they are itself are function and also are boolean that's why error and only true and false are boolean\n",
    "type(l4)"
   ]
  },
  {
   "cell_type": "code",
   "execution_count": 17,
   "id": "9cc894dd",
   "metadata": {},
   "outputs": [
    {
     "data": {
      "text/plain": [
       "list"
      ]
     },
     "execution_count": 17,
     "metadata": {},
     "output_type": "execute_result"
    }
   ],
   "source": [
    "l4=[None,None]\n",
    "type(l4)"
   ]
  },
  {
   "cell_type": "code",
   "execution_count": 18,
   "id": "141687d9",
   "metadata": {},
   "outputs": [
    {
     "data": {
      "text/plain": [
       "list"
      ]
     },
     "execution_count": 18,
     "metadata": {},
     "output_type": "execute_result"
    }
   ],
   "source": [
    "l5=[None, \"a\", True, 1, 1.1, \" \"] #mix of all the data types #list is independent of data type\n",
    "type(l5) "
   ]
  },
  {
   "cell_type": "code",
   "execution_count": 20,
   "id": "0bbbce5e",
   "metadata": {},
   "outputs": [
    {
     "data": {
      "text/plain": [
       "list"
      ]
     },
     "execution_count": 20,
     "metadata": {},
     "output_type": "execute_result"
    }
   ],
   "source": [
    "l6=[ ] #empty list is level 0 list \n",
    "type(l6)"
   ]
  },
  {
   "cell_type": "code",
   "execution_count": 34,
   "id": "c8bf40c5",
   "metadata": {},
   "outputs": [
    {
     "data": {
      "text/plain": [
       "4"
      ]
     },
     "execution_count": 34,
     "metadata": {},
     "output_type": "execute_result"
    }
   ],
   "source": [
    "l7=[[1,3],[2,4]] #list of list is level 3\n",
    "type(l7)\n",
    "l7[1][1] #to get inner list from the list of list "
   ]
  },
  {
   "cell_type": "code",
   "execution_count": 23,
   "id": "0844643d",
   "metadata": {},
   "outputs": [
    {
     "data": {
      "text/plain": [
       "list"
      ]
     },
     "execution_count": 23,
     "metadata": {},
     "output_type": "execute_result"
    }
   ],
   "source": [
    "l8=[[1],[1,\"a\", 1.1],[1,2],[2,3,4,4]]\n",
    "type(l8)"
   ]
  },
  {
   "cell_type": "code",
   "execution_count": 38,
   "id": "73302301",
   "metadata": {},
   "outputs": [
    {
     "data": {
      "text/plain": [
       "tuple"
      ]
     },
     "execution_count": 38,
     "metadata": {},
     "output_type": "execute_result"
    }
   ],
   "source": [
    "l9=((1,\"a\", 1.1,\" \", None, True)) #tuple\n",
    "type(l9) \n"
   ]
  },
  {
   "cell_type": "code",
   "execution_count": 42,
   "id": "197c8dcc",
   "metadata": {},
   "outputs": [
    {
     "data": {
      "text/plain": [
       "'a'"
      ]
     },
     "execution_count": 42,
     "metadata": {},
     "output_type": "execute_result"
    }
   ],
   "source": [
    "l10=((1,2),(\"a\",\"b\")) #to get inner tuple from tuple of tuple\n",
    "type(l10)\n",
    "l10[1][0]"
   ]
  },
  {
   "cell_type": "code",
   "execution_count": 45,
   "id": "404433f4",
   "metadata": {},
   "outputs": [
    {
     "data": {
      "text/plain": [
       "(1, 2)"
      ]
     },
     "execution_count": 45,
     "metadata": {},
     "output_type": "execute_result"
    }
   ],
   "source": [
    "l11=[(1,2,), (\"a,\",\"b\")] #list of tuple - yes, retrieve is also can be done.\n",
    "type(l11)\n",
    "l11[0]"
   ]
  },
  {
   "cell_type": "code",
   "execution_count": 48,
   "id": "1c8c6f2f",
   "metadata": {},
   "outputs": [
    {
     "data": {
      "text/plain": [
       "2"
      ]
     },
     "execution_count": 48,
     "metadata": {},
     "output_type": "execute_result"
    }
   ],
   "source": [
    "l12=([1,2],[\"a\",\"b\"])\n",
    "type(l12)\n",
    "l12[0][1]"
   ]
  },
  {
   "cell_type": "code",
   "execution_count": 8,
   "id": "45fcb03e",
   "metadata": {},
   "outputs": [
    {
     "name": "stdout",
     "output_type": "stream",
     "text": [
      "(1, 2, 10, 4, 15)\n"
     ]
    }
   ],
   "source": [
    "original_tuple = (1, 2, 3, 4, 5)\n",
    "updated_list = list(original_tuple)    #how to convert and update tuple in list and vice versa\n",
    "updated_list[2] = 10\n",
    "updated_list[4]= 15\n",
    "original_tuple = tuple(updated_list)\n",
    "\n",
    "print(original_tuple)"
   ]
  },
  {
   "cell_type": "code",
   "execution_count": null,
   "id": "8b14baa4",
   "metadata": {},
   "outputs": [],
   "source": [
    "#dataframe modelling 7th Aug '23"
   ]
  },
  {
   "cell_type": "code",
   "execution_count": 4,
   "id": "0d98c9fd",
   "metadata": {},
   "outputs": [
    {
     "data": {
      "text/plain": [
       "[0, 1, 2, 3, 4, 5, 6, 7, 8]"
      ]
     },
     "execution_count": 4,
     "metadata": {},
     "output_type": "execute_result"
    }
   ],
   "source": [
    "r=range(9) #range\n",
    "\n",
    "list(r)"
   ]
  },
  {
   "cell_type": "code",
   "execution_count": 6,
   "id": "4d1fe8ee",
   "metadata": {},
   "outputs": [
    {
     "data": {
      "text/plain": [
       "[0, 1, 2, 3, 4, 5, 6, 7, 8]"
      ]
     },
     "execution_count": 6,
     "metadata": {},
     "output_type": "execute_result"
    }
   ],
   "source": [
    "r2=range(0,9,1) #range(start/stop/increment)\n",
    "r2\n",
    "list(r2)"
   ]
  },
  {
   "cell_type": "code",
   "execution_count": 7,
   "id": "12ec0c90",
   "metadata": {},
   "outputs": [
    {
     "data": {
      "text/plain": [
       "True"
      ]
     },
     "execution_count": 7,
     "metadata": {},
     "output_type": "execute_result"
    }
   ],
   "source": [
    "r==r2"
   ]
  },
  {
   "cell_type": "code",
   "execution_count": 9,
   "id": "c74b5cd5",
   "metadata": {},
   "outputs": [
    {
     "data": {
      "text/plain": [
       "[5, 4, 3, 2, 1, 0]"
      ]
     },
     "execution_count": 9,
     "metadata": {},
     "output_type": "execute_result"
    }
   ],
   "source": [
    "r3=range(5,-1,-1) #to get 0 use -1\n",
    "list(r3)"
   ]
  },
  {
   "cell_type": "code",
   "execution_count": 10,
   "id": "7d7c3703",
   "metadata": {},
   "outputs": [
    {
     "data": {
      "text/plain": [
       "{0, 1, 2, 3, 5, 8}"
      ]
     },
     "execution_count": 10,
     "metadata": {},
     "output_type": "execute_result"
    }
   ],
   "source": [
    "s={0,1,1,2,3,5,8} #set will give you unique values \n",
    "s"
   ]
  },
  {
   "cell_type": "code",
   "execution_count": 11,
   "id": "52734b73",
   "metadata": {},
   "outputs": [
    {
     "data": {
      "text/plain": [
       "{'a', 'c', 'd', 'n', 'o'}"
      ]
     },
     "execution_count": 11,
     "metadata": {},
     "output_type": "execute_result"
    }
   ],
   "source": [
    "s1={\"a\",\"n\",\"a\",\"c\",\"o\",\"n\",\"d\",\"a\"}\n",
    "s1"
   ]
  },
  {
   "cell_type": "code",
   "execution_count": 12,
   "id": "9388531b",
   "metadata": {},
   "outputs": [
    {
     "data": {
      "text/plain": [
       "{1, 2, 3, 4, 7, 8, 9, 'a', 'b'}"
      ]
     },
     "execution_count": 12,
     "metadata": {},
     "output_type": "execute_result"
    }
   ],
   "source": [
    "s4={1,2,3,4}\n",
    "s5={'a','b',1,2,3}   #union and intersection #set is complex data type\n",
    "s6={7,8,9}\n",
    "set.union(s4,s5,s6)"
   ]
  },
  {
   "cell_type": "code",
   "execution_count": 14,
   "id": "74cc8f60",
   "metadata": {},
   "outputs": [
    {
     "data": {
      "text/plain": [
       "{1, 2, 3}"
      ]
     },
     "execution_count": 14,
     "metadata": {},
     "output_type": "execute_result"
    }
   ],
   "source": [
    "set.intersection(s4,s5)"
   ]
  },
  {
   "cell_type": "code",
   "execution_count": 15,
   "id": "75e2da78",
   "metadata": {},
   "outputs": [
    {
     "data": {
      "text/plain": [
       "set()"
      ]
     },
     "execution_count": 15,
     "metadata": {},
     "output_type": "execute_result"
    }
   ],
   "source": [
    "set.intersection(s4,s5,s6)"
   ]
  },
  {
   "cell_type": "code",
   "execution_count": 17,
   "id": "aa75a4c7",
   "metadata": {},
   "outputs": [
    {
     "data": {
      "text/plain": [
       "[1, 2, 3, 4]"
      ]
     },
     "execution_count": 17,
     "metadata": {},
     "output_type": "execute_result"
    }
   ],
   "source": [
    "s7=(1,2,3,4)\n",
    "list(s7)"
   ]
  },
  {
   "cell_type": "code",
   "execution_count": 19,
   "id": "72f591eb",
   "metadata": {},
   "outputs": [
    {
     "ename": "TypeError",
     "evalue": "'set' object is not subscriptable",
     "output_type": "error",
     "traceback": [
      "\u001b[0;31m---------------------------------------------------------------------------\u001b[0m",
      "\u001b[0;31mTypeError\u001b[0m                                 Traceback (most recent call last)",
      "Cell \u001b[0;32mIn[19], line 1\u001b[0m\n\u001b[0;32m----> 1\u001b[0m s4[\u001b[38;5;241m0\u001b[39m]\n\u001b[1;32m      2\u001b[0m s4\n",
      "\u001b[0;31mTypeError\u001b[0m: 'set' object is not subscriptable"
     ]
    }
   ],
   "source": [
    "s4[0] #elements of set are not fetched, to do convert into list"
   ]
  },
  {
   "cell_type": "code",
   "execution_count": null,
   "id": "94c6b866",
   "metadata": {},
   "outputs": [],
   "source": [
    "#dictionary\n"
   ]
  },
  {
   "cell_type": "code",
   "execution_count": 21,
   "id": "dd650762",
   "metadata": {},
   "outputs": [
    {
     "data": {
      "text/plain": [
       "dict"
      ]
     },
     "execution_count": 21,
     "metadata": {},
     "output_type": "execute_result"
    }
   ],
   "source": [
    "d={\"045004\":\"Aditya\", \"045009\": \"Ansh\"}\n",
    "type(d)"
   ]
  },
  {
   "cell_type": "code",
   "execution_count": 23,
   "id": "c5f1ccc9",
   "metadata": {},
   "outputs": [
    {
     "data": {
      "text/plain": [
       "dict_keys(['045004', '045008'])"
      ]
     },
     "execution_count": 23,
     "metadata": {},
     "output_type": "execute_result"
    }
   ],
   "source": [
    "dict.keys(d)"
   ]
  },
  {
   "cell_type": "code",
   "execution_count": 26,
   "id": "6ea053ba",
   "metadata": {},
   "outputs": [
    {
     "data": {
      "text/plain": [
       "dict_values(['Aditya', 'Ansh'])"
      ]
     },
     "execution_count": 26,
     "metadata": {},
     "output_type": "execute_result"
    }
   ],
   "source": [
    "dict.values(d)"
   ]
  },
  {
   "cell_type": "code",
   "execution_count": 28,
   "id": "56e2d3c6",
   "metadata": {},
   "outputs": [
    {
     "data": {
      "text/plain": [
       "dict"
      ]
     },
     "execution_count": 28,
     "metadata": {},
     "output_type": "execute_result"
    }
   ],
   "source": [
    "d1={\"Aditya\":\"1\", \"Ansh\":\"2\"} #reverse\n",
    "type(d1) "
   ]
  },
  {
   "cell_type": "code",
   "execution_count": 29,
   "id": "c83f0cb3",
   "metadata": {},
   "outputs": [
    {
     "data": {
      "text/plain": [
       "dict_keys(['Aditya', 'Ansh'])"
      ]
     },
     "execution_count": 29,
     "metadata": {},
     "output_type": "execute_result"
    }
   ],
   "source": [
    "dict.keys(d1)"
   ]
  },
  {
   "cell_type": "code",
   "execution_count": 30,
   "id": "87e7fa0d",
   "metadata": {},
   "outputs": [
    {
     "data": {
      "text/plain": [
       "dict_values(['1', '2'])"
      ]
     },
     "execution_count": 30,
     "metadata": {},
     "output_type": "execute_result"
    }
   ],
   "source": [
    "dict.values(d1)"
   ]
  },
  {
   "cell_type": "code",
   "execution_count": 31,
   "id": "79ac8a3b",
   "metadata": {},
   "outputs": [
    {
     "data": {
      "text/plain": [
       "dict"
      ]
     },
     "execution_count": 31,
     "metadata": {},
     "output_type": "execute_result"
    }
   ],
   "source": [
    "d3={\"0\":\"P\",\"1\":\"Y\",\"1\":\"T\",\"2\":\"H\",\"3\":\"O\",\"5\":\"N\"} #keys should be unique\n",
    "type(d3)"
   ]
  },
  {
   "cell_type": "code",
   "execution_count": 32,
   "id": "729beb57",
   "metadata": {},
   "outputs": [
    {
     "data": {
      "text/plain": [
       "dict_keys(['0', '1', '2', '3', '5'])"
      ]
     },
     "execution_count": 32,
     "metadata": {},
     "output_type": "execute_result"
    }
   ],
   "source": [
    "dict.keys(d3)"
   ]
  },
  {
   "cell_type": "code",
   "execution_count": 34,
   "id": "c4c3bc10",
   "metadata": {},
   "outputs": [
    {
     "data": {
      "text/plain": [
       "dict_values(['P', 'T', 'H', 'O', 'N'])"
      ]
     },
     "execution_count": 34,
     "metadata": {},
     "output_type": "execute_result"
    }
   ],
   "source": [
    "dict.values(d3)"
   ]
  },
  {
   "cell_type": "code",
   "execution_count": 35,
   "id": "a9160f08",
   "metadata": {},
   "outputs": [
    {
     "data": {
      "text/plain": [
       "dict"
      ]
     },
     "execution_count": 35,
     "metadata": {},
     "output_type": "execute_result"
    }
   ],
   "source": [
    "d4={\"a\":\"8\",\"n\":\"1\",\"a\":\"2\",\"c\":\"5\",\"o\":\"5\",\"n\":\"9\",\"d\":\"6\",\"a\":\"4\",\"s\":\"2\"}\n",
    "type(d4)"
   ]
  },
  {
   "cell_type": "code",
   "execution_count": 36,
   "id": "2b9f3eff",
   "metadata": {},
   "outputs": [
    {
     "data": {
      "text/plain": [
       "dict_keys(['a', 'n', 'c', 'o', 'd', 's'])"
      ]
     },
     "execution_count": 36,
     "metadata": {},
     "output_type": "execute_result"
    }
   ],
   "source": [
    "dict.keys(d4) #key is unique and check whether it can take float"
   ]
  },
  {
   "cell_type": "code",
   "execution_count": 37,
   "id": "a0ea8232",
   "metadata": {},
   "outputs": [
    {
     "data": {
      "text/plain": [
       "dict_values(['4', '9', '5', '5', '6', '2'])"
      ]
     },
     "execution_count": 37,
     "metadata": {},
     "output_type": "execute_result"
    }
   ],
   "source": [
    "dict.values(d4) "
   ]
  },
  {
   "cell_type": "code",
   "execution_count": 39,
   "id": "e65ca8f1",
   "metadata": {},
   "outputs": [
    {
     "data": {
      "text/plain": [
       "{'1': '[b,c,d]', '2': '[e,f,g]'}"
      ]
     },
     "execution_count": 39,
     "metadata": {},
     "output_type": "execute_result"
    }
   ],
   "source": [
    "d5={\"1\":\"[b,c,d]\",\"2\":\"[e,f,g]\"}\n",
    "d5"
   ]
  },
  {
   "cell_type": "code",
   "execution_count": 48,
   "id": "d1664518",
   "metadata": {},
   "outputs": [],
   "source": [
    "d5.get(2) #fetch the value of the key "
   ]
  },
  {
   "cell_type": "code",
   "execution_count": 49,
   "id": "fcdf9c92",
   "metadata": {},
   "outputs": [
    {
     "name": "stdout",
     "output_type": "stream",
     "text": [
      "Current count: 1\n",
      "Current count: 2\n",
      "Current count: 3\n",
      "Current count: 4\n",
      "Current count: 5\n"
     ]
    }
   ],
   "source": [
    "count = 1\n",
    "while count <= 5:\n",
    "    print(\"Current count:\", count)\n",
    "    count += 1\n"
   ]
  },
  {
   "cell_type": "code",
   "execution_count": null,
   "id": "1c39d480",
   "metadata": {},
   "outputs": [],
   "source": [
    "#large number and check even numbers"
   ]
  },
  {
   "cell_type": "code",
   "execution_count": 54,
   "id": "f99469ca",
   "metadata": {},
   "outputs": [
    {
     "name": "stdout",
     "output_type": "stream",
     "text": [
      "The count of even numbers from 1 to 12004 is: 6001\n"
     ]
    }
   ],
   "source": [
    "count_even = 0\n",
    "for num in range(1, 12004):\n",
    "    if num % 2 == 0:\n",
    "        count_even += 1\n",
    "print(\"The count of even numbers from 1 to 12004 is:\", count_even)\n",
    "\n"
   ]
  },
  {
   "cell_type": "code",
   "execution_count": 55,
   "id": "7319ab2c",
   "metadata": {},
   "outputs": [
    {
     "name": "stdout",
     "output_type": "stream",
     "text": [
      "The count of odd numbers from 1 to 12004 is: 6003\n"
     ]
    }
   ],
   "source": [
    "count_odd = 1\n",
    "for num in range(1, 12004):\n",
    "    if num % 2 != 0:\n",
    "        count_odd += 1\n",
    "print(\"The count of odd numbers from 1 to 12004 is:\", count_odd)\n"
   ]
  },
  {
   "cell_type": "code",
   "execution_count": null,
   "id": "267b644c",
   "metadata": {},
   "outputs": [],
   "source": [
    "#8th aug 23"
   ]
  },
  {
   "cell_type": "code",
   "execution_count": 7,
   "id": "6ef13dd3",
   "metadata": {},
   "outputs": [
    {
     "name": "stdout",
     "output_type": "stream",
     "text": [
      "-1\n"
     ]
    }
   ],
   "source": [
    "v=3\n",
    "while v >= 0:\n",
    " v\n",
    " v= v-1\n",
    "print(v)\n"
   ]
  },
  {
   "cell_type": "code",
   "execution_count": null,
   "id": "4a08680f",
   "metadata": {},
   "outputs": [],
   "source": [
    "#if then else with for"
   ]
  },
  {
   "cell_type": "code",
   "execution_count": 41,
   "id": "67e63c15",
   "metadata": {},
   "outputs": [
    {
     "name": "stdout",
     "output_type": "stream",
     "text": [
      "Vowels: ['a', 'a', 'o', 'a']\n",
      "Consonants: ['n', 'c', 'n', 'd']\n"
     ]
    }
   ],
   "source": [
    "word = \"anaconda\"\n",
    "vowels = []\n",
    "consonants = []\n",
    "\n",
    "for letter in word:\n",
    "    if letter.lower() in 'aeiou':\n",
    "        vowels.append(letter)\n",
    "    else:\n",
    "        consonants.append(letter)\n",
    "\n",
    "print(\"Vowels:\", vowels)\n",
    "print(\"Consonants:\", consonants)\n",
    "\n"
   ]
  },
  {
   "cell_type": "code",
   "execution_count": null,
   "id": "fbc76759",
   "metadata": {},
   "outputs": [],
   "source": [
    "#mixed list , number bool none string atleast 2"
   ]
  },
  {
   "cell_type": "code",
   "execution_count": null,
   "id": "40b5d095",
   "metadata": {},
   "outputs": [],
   "source": [
    "ml=[1,2,1.1,2.1,a,b,abc12,\" \", True,False,None] #homogenize\n",
    "Number=[]\n",
    "String=[]\n",
    "Boo=[]\n",
    "Empty=[]"
   ]
  },
  {
   "cell_type": "code",
   "execution_count": 44,
   "id": "a5d782b7",
   "metadata": {},
   "outputs": [
    {
     "name": "stdout",
     "output_type": "stream",
     "text": [
      "Mixed List: [42, 'Hello', 3.14, True, ['apple', 5]]\n",
      "\n",
      "Separated Lists:\n",
      "Integer List: [42, True]\n",
      "String List: ['Hello']\n",
      "Float List: [3.14]\n",
      "Boolean List: []\n",
      "Nested List: [['apple', 5]]\n"
     ]
    }
   ],
   "source": [
    "mixed_list = [42, \"Hello\", 3.14, True, [\"apple\", 5]]\n",
    "\n",
    "int_list = []\n",
    "str_list = []\n",
    "float_list = []\n",
    "bool_list = []\n",
    "nested_list = []\n",
    "\n",
    "for item in mixed_list:\n",
    "    if isinstance(item, int):\n",
    "        int_list.append(item)\n",
    "    elif isinstance(item, str):\n",
    "        str_list.append(item)\n",
    "    elif isinstance(item, float):\n",
    "        float_list.append(item)\n",
    "    elif isinstance(item, bool):\n",
    "        bool_list.append(item)\n",
    "    elif isinstance(item, list):\n",
    "        nested_list.append(item)\n",
    "\n",
    "print(\"Mixed List:\", mixed_list)\n",
    "print(\"\\nSeparated Lists:\")\n",
    "print(\"Integer List:\", int_list)\n",
    "print(\"String List:\", str_list)\n",
    "print(\"Float List:\", float_list)\n",
    "print(\"Boolean List:\", bool_list)\n",
    "print(\"Nested List:\", nested_list)\n"
   ]
  },
  {
   "cell_type": "code",
   "execution_count": 47,
   "id": "12f4e264",
   "metadata": {},
   "outputs": [
    {
     "name": "stdout",
     "output_type": "stream",
     "text": [
      "Mixed List: [42, 'Hello', 3.14, True, None]\n",
      "\n",
      "Separated Lists:\n",
      "Integer List: [42]\n",
      "String List: ['Hello']\n",
      "Float List: [3.14]\n",
      "Boolean List: [True]\n",
      "Nested List: []\n"
     ]
    }
   ],
   "source": [
    "mixed_list = [42, \"Hello\", 3.14, True,None]\n",
    " \n",
    "int_list = [] numlist string list boolean #exam\n",
    "str_list = []\n",
    "float_list = []\n",
    "bool_list = []\n",
    "nested_list = []\n",
    "\n",
    "for item in mixed_list:\n",
    "    if type(item) == int:\n",
    "        int_list.append(item)\n",
    "    elif type(item) == str:\n",
    "        str_list.append(item)\n",
    "    elif type(item) == float:\n",
    "        float_list.append(item)\n",
    "    elif type(item) == bool:\n",
    "        bool_list.append(item)\n",
    "    elif type(item) == list:\n",
    "        nested_list.append(item)\n",
    "\n",
    "print(\"Mixed List:\", mixed_list)\n",
    "print(\"\\nSeparated Lists:\")\n",
    "print(\"Integer List:\", int_list)\n",
    "print(\"String List:\", str_list)\n",
    "print(\"Float List:\", float_list)\n",
    "print(\"Boolean List:\", bool_list)\n",
    "print(\"Nested List:\", nested_list)\n"
   ]
  },
  {
   "cell_type": "code",
   "execution_count": 53,
   "id": "5411b982",
   "metadata": {},
   "outputs": [
    {
     "name": "stdout",
     "output_type": "stream",
     "text": [
      "num [1, 0, -1]\n",
      "str [1, 0, -1]\n",
      "bool [1, 0, -1]\n",
      "none [1, 0, -1]\n"
     ]
    }
   ],
   "source": [
    "ml = [1,2.3,'a','pi',True, None, False, 9.8,0,-1,'xyz']\n",
    "num_list=[]\n",
    "str_list=[]\n",
    "bool_list=[]\n",
    "none_list=[]\n",
    "\n",
    "for item in ml:\n",
    "    if type(item)==int:\n",
    "        num_list.append(item)\n",
    "    elif type(item)==str:\n",
    "        str_list.append(item)\n",
    "    elif type(item)==bool:\n",
    "        bool_list.append(item)\n",
    "    elif type(item)== None:\n",
    "        none_list.append(item) \n",
    "        \n",
    "        \n",
    "        \n",
    "\n",
    "print(\"num\",num_list)\n",
    "print(\"str\",num_list)\n",
    "print(\"bool\",num_list)\n",
    "print(\"none\",num_list)\n"
   ]
  },
  {
   "cell_type": "code",
   "execution_count": null,
   "id": "66accec5",
   "metadata": {},
   "outputs": [],
   "source": [
    "def my=(v1,v2)\n",
    "a=v1+v2\n",
    "print(a)"
   ]
  },
  {
   "cell_type": "code",
   "execution_count": null,
   "id": "8df5b3fc",
   "metadata": {},
   "outputs": [],
   "source": [
    "my(1,2)"
   ]
  },
  {
   "cell_type": "code",
   "execution_count": null,
   "id": "ec65c193",
   "metadata": {},
   "outputs": [],
   "source": [
    "#10th august '23"
   ]
  },
  {
   "cell_type": "code",
   "execution_count": null,
   "id": "cdcdb8e6",
   "metadata": {},
   "outputs": [],
   "source": [
    "#write a code which will  using user input randon library randonly generate a series of 100 nos between 0 and 1 and segregate based on if it falls 0-0.25 it will go to loweer quartile , 025"
   ]
  },
  {
   "cell_type": "code",
   "execution_count": 1,
   "id": "deb8c3b8",
   "metadata": {},
   "outputs": [
    {
     "name": "stdout",
     "output_type": "stream",
     "text": [
      "Lower Quartile: [0.04965546340684224, 0.21716742158268265, 0.16494766072029865, 0.2188066200794636, 0.23035914773106025, 0.05147704969117006, 0.247710707346677, 0.02840131903031118, 0.14098396488406817, 0.016341492409535197, 0.1796365856742942, 0.2417521225897562, 0.003788776357012358, 0.23038770369248196, 0.24199970284662342, 0.19605722539876946, 0.06320209989957637, 0.24987161671752356, 0.14748660044588657, 0.1935887841505851, 0.11213125429109172, 0.028750521471241686, 0.01427988803201552, 0.07477007578428374]\n",
      "LUv: [0.4619270629447989, 0.4317294440456141, 0.4801154364730339, 0.35233719776102757, 0.33707424616750725, 0.35242776535561904, 0.39581846867454074, 0.3949691759787799, 0.43700735908508714, 0.3787853262071188, 0.2923298555041485, 0.30621716201187743, 0.3755166201585186, 0.37140585120847625, 0.48792100858145326, 0.2740369795404346, 0.3632868148659212, 0.43141112365275425, 0.28314013346330325, 0.39290786220064167, 0.29041897744887146, 0.312559331631585, 0.2723094517622092, 0.33258069757066955, 0.3237549688425938, 0.26310582480489864, 0.2839625235990745, 0.47652818780909856, 0.297261681397993, 0.4325428264542297]\n",
      "Other: [0.5534867168406945, 0.7553480648688216, 0.8150979902864967, 0.8657831390925153, 0.9524812834331359, 0.8522455564419296, 0.9789107008812521, 0.6178356714083298, 0.6993487681554366, 0.7156013967715, 0.7916065952023249, 0.699476547525808, 0.8848760132670291, 0.5469821659631052, 0.7728686467098331, 0.957652103754306, 0.6324643121615244, 0.9529057129828628, 0.6908973549718617, 0.6699460098779604, 0.6502391829318682, 0.6729793538360277, 0.5428477801956162, 0.673326269922821, 0.9274563598357726, 0.8360930506123334, 0.5421226411666177, 0.978043191590436, 0.6370927459730374, 0.9209304880607384, 0.9558968391836026, 0.5783678675127908, 0.9000760166659946, 0.7079216843771517, 0.696598656498504, 0.7269533891179352, 0.7148717345613781, 0.8699577161653325, 0.9632680758319745, 0.9914765165312925, 0.7031830308294211, 0.7791953348554473, 0.9297565823362317, 0.77758488706833, 0.5238487869645533, 0.7535150648280116]\n"
     ]
    }
   ],
   "source": [
    "import random\n",
    "\n",
    "def categorize_number(number):\n",
    "    if number <= 0.25:\n",
    "        return \"Lower Quartile\"\n",
    "    elif number <= 0.5:\n",
    "        return \"LUv\"\n",
    "    else:\n",
    "        return \"Other\"\n",
    "\n",
    "# Generate a series of 100 random numbers between 0 and 1\n",
    "numbers = [random.random() for _ in range(100)]\n",
    "\n",
    "# Categorize and store the numbers based on the defined conditions\n",
    "lower_quartile = []\n",
    "luv = []\n",
    "other = []\n",
    "\n",
    "for number in numbers:\n",
    "    category = categorize_number(number)\n",
    "    if category == \"Lower Quartile\":\n",
    "        lower_quartile.append(number)\n",
    "    elif category == \"LUv\":\n",
    "        luv.append(number)\n",
    "    else:\n",
    "        other.append(number)\n",
    "\n",
    "# Print the segregated results\n",
    "print(\"Lower Quartile:\", lower_quartile)\n",
    "print(\"LUv:\", luv)\n",
    "print(\"Other:\", other)\n"
   ]
  },
  {
   "cell_type": "code",
   "execution_count": 2,
   "id": "41aa0142",
   "metadata": {},
   "outputs": [],
   "source": []
  },
  {
   "cell_type": "code",
   "execution_count": 3,
   "id": "e8a0960d",
   "metadata": {},
   "outputs": [
    {
     "name": "stdout",
     "output_type": "stream",
     "text": [
      "[1 2 3 4 5]\n"
     ]
    }
   ],
   "source": [
    "import numpy as np #for array and matrices #in python array are represented/arranged in column\n",
    "\n",
    "# Create a 1D array using a list\n",
    "my_array = np.array([1, 2, 3, 4, 5])\n",
    "\n",
    "print(my_array)\n"
   ]
  },
  {
   "cell_type": "code",
   "execution_count": 4,
   "id": "9f5e0af5",
   "metadata": {},
   "outputs": [
    {
     "name": "stdout",
     "output_type": "stream",
     "text": [
      "[1 2 3 4 5]\n"
     ]
    }
   ],
   "source": [
    "import numpy as np\n",
    "\n",
    "# Create a 1D array using a Python list #arrays are always arranged in column manner but in python it is shown in horizontal manner that is why python is not used in scientific computing. because it does not display in column \n",
    "my_list = [1, 2, 3, 4, 5]\n",
    "my_array = np.array(my_list)\n",
    "\n",
    "print(my_array)\n"
   ]
  },
  {
   "cell_type": "code",
   "execution_count": 5,
   "id": "eaa65fd6",
   "metadata": {},
   "outputs": [
    {
     "name": "stdout",
     "output_type": "stream",
     "text": [
      "[[1 2 3]\n",
      " [4 5 6]\n",
      " [7 8 9]]\n"
     ]
    }
   ],
   "source": [
    "import numpy as np\n",
    "\n",
    "# Create a 2D array using a nested Python list\n",
    "my_list_2d = [[1, 2, 3],\n",
    "              [4, 5, 6],\n",
    "              [7, 8, 9]]\n",
    "\n",
    "my_array_2d = np.array(my_list_2d)\n",
    "\n",
    "print(my_array_2d)\n",
    "\n"
   ]
  },
  {
   "cell_type": "code",
   "execution_count": 7,
   "id": "ca49f2c1",
   "metadata": {},
   "outputs": [
    {
     "name": "stdout",
     "output_type": "stream",
     "text": [
      "[[1, 2, 3], [4, 5, 6], [7, 8, 9]]\n"
     ]
    },
    {
     "ename": "NameError",
     "evalue": "name 'a2' is not defined",
     "output_type": "error",
     "traceback": [
      "\u001b[0;31m---------------------------------------------------------------------------\u001b[0m",
      "\u001b[0;31mNameError\u001b[0m                                 Traceback (most recent call last)",
      "Cell \u001b[0;32mIn[7], line 8\u001b[0m\n\u001b[1;32m      5\u001b[0m my_array_2d \u001b[38;5;241m=\u001b[39m np\u001b[38;5;241m.\u001b[39marray(list2d)\n\u001b[1;32m      7\u001b[0m \u001b[38;5;28mprint\u001b[39m(list2d)\n\u001b[0;32m----> 8\u001b[0m a2\u001b[38;5;241m.\u001b[39mreshape(list2d)\n",
      "\u001b[0;31mNameError\u001b[0m: name 'a2' is not defined"
     ]
    }
   ],
   "source": [
    " list2d= [[1, 2, 3],\n",
    "              [4, 5, 6],\n",
    "              [7, 8, 9]]\n",
    "\n",
    "my_array_2d = np.array(list2d)\n",
    "\n",
    "print(list2d)\n",
    "a2.reshape(list2d)\n"
   ]
  },
  {
   "cell_type": "code",
   "execution_count": 8,
   "id": "3e4e6e93",
   "metadata": {},
   "outputs": [
    {
     "name": "stdout",
     "output_type": "stream",
     "text": [
      "Original 2D array:\n",
      "[[1 2 3]\n",
      " [4 5 6]]\n",
      "\n",
      "Reshaped 3D array:\n",
      "[[[1]\n",
      "  [2]\n",
      "  [3]]\n",
      "\n",
      " [[4]\n",
      "  [5]\n",
      "  [6]]]\n"
     ]
    }
   ],
   "source": [
    "import numpy as np\n",
    "\n",
    "# Create a 2D array\n",
    "my_array_2d = np.array([[1, 2, 3],\n",
    "                        [4, 5, 6]])\n",
    "\n",
    "# Reshape the 2D array to a 3D array with shape (2, 3, 1)\n",
    "my_array_3d = np.reshape(my_array_2d, (my_array_2d.shape[0], my_array_2d.shape[1], 1))\n",
    "\n",
    "print(\"Original 2D array:\")\n",
    "print(my_array_2d)\n",
    "print(\"\\nReshaped 3D array:\")\n",
    "print(my_array_3d)\n"
   ]
  },
  {
   "cell_type": "code",
   "execution_count": 10,
   "id": "4203d69f",
   "metadata": {},
   "outputs": [
    {
     "name": "stdout",
     "output_type": "stream",
     "text": [
      "Original 2D array:\n",
      "[[1 2 3]\n",
      " [4 5 6]]\n",
      "\n",
      "Transposed using .T:\n",
      "[[1 4]\n",
      " [2 5]\n",
      " [3 6]]\n",
      "\n",
      "Transposed using numpy.transpose():\n",
      "[[1 4]\n",
      " [2 5]\n",
      " [3 6]]\n"
     ]
    }
   ],
   "source": [
    "\n",
    "\n",
    "# Create a 2D array\n",
    "my_array_2d = np.array([[1, 2, 3],\n",
    "                        [4, 5, 6]])\n",
    "\n",
    "# Method 1: Using the .T attribute\n",
    "transposed_array_1 = my_array_2d.T\n",
    "\n",
    "# Method 2: Using numpy.transpose()\n",
    "transposed_array_2 = np.transpose(my_array_2d)\n",
    "\n",
    "print(\"Original 2D array:\")\n",
    "print(my_array_2d)\n",
    "print(\"\\nTransposed using .T:\")\n",
    "print(transposed_array_1)\n",
    "print(\"\\nTransposed using numpy.transpose():\")\n",
    "print(transposed_array_2)\n"
   ]
  },
  {
   "cell_type": "code",
   "execution_count": 12,
   "id": "580fdbe3",
   "metadata": {},
   "outputs": [
    {
     "name": "stdout",
     "output_type": "stream",
     "text": [
      "Array: [5 2 9 1 7]\n",
      "Minimum value: 1\n",
      "Maximum value: 9\n"
     ]
    }
   ],
   "source": [
    "\n",
    "# Create a 1D array\n",
    "my_array = np.array([5, 2, 9, 1, 7])\n",
    "\n",
    "# Find the minimum and maximum values\n",
    "minimum_value = np.min(my_array)\n",
    "maximum_value = np.max(my_array)\n",
    "\n",
    "print(\"Array:\", my_array)\n",
    "print(\"Minimum value:\", minimum_value)\n",
    "print(\"Maximum value:\", maximum_value)\n"
   ]
  },
  {
   "cell_type": "code",
   "execution_count": 15,
   "id": "919623db",
   "metadata": {},
   "outputs": [
    {
     "name": "stdout",
     "output_type": "stream",
     "text": [
      "Original 2D array:\n",
      "[[1 2 3]\n",
      " [4 5 6]]\n",
      "\n",
      "Row-wise minimum: [1 4]\n",
      "Row-wise maximum: [3 6]\n",
      "Row-wise sum: [ 6 15]\n",
      "\n",
      "Column-wise minimum: [1 2 3]\n",
      "Column-wise maximum: [4 5 6]\n",
      "Column-wise sum: [5 7 9]\n"
     ]
    }
   ],
   "source": [
    "import numpy as np\n",
    "\n",
    "# Create a 2D array\n",
    "my_array_2d = np.array([[1, 2, 3],\n",
    "                        [4, 5, 6]])\n",
    "\n",
    "# Row-wise minimum, maximum, and sum\n",
    "row_min = np.min(my_array_2d, axis=1)\n",
    "row_max = np.max(my_array_2d, axis=1)\n",
    "row_sum = np.sum(my_array_2d, axis=1)\n",
    "\n",
    "# Column-wise minimum, maximum, and sum\n",
    "col_min = np.min(my_array_2d, axis=0)\n",
    "col_max = np.max(my_array_2d, axis=0)\n",
    "col_sum = np.sum(my_array_2d, axis=0)\n",
    "\n",
    "print(\"Original 2D array:\")\n",
    "print(my_array_2d)\n",
    "print(\"\\nRow-wise minimum:\", row_min)\n",
    "print(\"Row-wise maximum:\", row_max)\n",
    "print(\"Row-wise sum:\", row_sum)\n",
    "print(\"\\nColumn-wise minimum:\", col_min)\n",
    "print(\"Column-wise maximum:\", col_max)\n",
    "print(\"Column-wise sum:\", col_sum)\n"
   ]
  },
  {
   "cell_type": "code",
   "execution_count": null,
   "id": "96ef6047",
   "metadata": {},
   "outputs": [],
   "source": [
    "x + 5y = 3 #[1,7] [5,3]\n",
    "7x+ 3y = 5\n"
   ]
  },
  {
   "cell_type": "code",
   "execution_count": null,
   "id": "d07eca8c",
   "metadata": {},
   "outputs": [],
   "source": [
    "#pandas deals with df - data in table forms is df"
   ]
  },
  {
   "cell_type": "code",
   "execution_count": 16,
   "id": "b938b00e",
   "metadata": {},
   "outputs": [],
   "source": [
    "import pandas as pd"
   ]
  },
  {
   "cell_type": "code",
   "execution_count": 17,
   "id": "0fbdcac0",
   "metadata": {},
   "outputs": [
    {
     "name": "stdout",
     "output_type": "stream",
     "text": [
      "{'name': 'John Doe', 'gender': 'Male', 'education': \"Bachelor's Degree\", 'age': 30, 'salary': 50000}\n"
     ]
    }
   ],
   "source": [
    "# Create a dictionary with individual's information\n",
    "person_info = {\n",
    "    \"name\": \"John Doe\",\n",
    "    \"gender\": \"Male\",\n",
    "    \"education\": \"Bachelor's Degree\",\n",
    "    \"age\": 30,\n",
    "    \"salary\": 50000\n",
    "}\n",
    "\n",
    "# Print the dictionary\n",
    "print(person_info)\n"
   ]
  },
  {
   "cell_type": "code",
   "execution_count": 24,
   "id": "6b60887d",
   "metadata": {},
   "outputs": [
    {
     "name": "stdout",
     "output_type": "stream",
     "text": [
      "{'name': 'John Doe', 'gender': 'Male', 'education': \"Bachelor's Degree\", 'age': 30, 'salary': 50000}\n",
      "{'name': 'Jane Smith', 'gender': 'Female', 'education': \"Master's Degree\", 'age': 28, 'salary': 60000}\n",
      "{'name': 'Alex Johnson', 'gender': 'Non-Binary', 'education': 'PhD', 'age': 35, 'salary': 75000}\n"
     ]
    }
   ],
   "source": [
    "# Create a list of dictionaries, each representing an individual's information\n",
    "people_info = [\n",
    "    {\n",
    "        \"name\": \"John Doe\",\n",
    "        \"gender\": \"Male\",\n",
    "        \"education\": \"Bachelor's Degree\",\n",
    "        \"age\": 30,\n",
    "        \"salary\": 50000\n",
    "    },\n",
    "    {\n",
    "        \"name\": \"Jane Smith\",\n",
    "        \"gender\": \"Female\",\n",
    "        \"education\": \"Master's Degree\",\n",
    "        \"age\": 28,\n",
    "        \"salary\": 60000\n",
    "    },\n",
    "    {\n",
    "        \"name\": \"Alex Johnson\",\n",
    "        \"gender\": \"Non-Binary\",\n",
    "        \"education\": \"PhD\",\n",
    "        \"age\": 35,\n",
    "        \"salary\": 75000\n",
    "    }\n",
    "]\n",
    "\n",
    "# Print the list of dictionaries\n",
    "for person in people_info:\n",
    "    print(person)\n",
    "df= pd.DataFrame(people_info)\n",
    "\n"
   ]
  },
  {
   "cell_type": "code",
   "execution_count": null,
   "id": "1a6c4796",
   "metadata": {},
   "outputs": [],
   "source": []
  }
 ],
 "metadata": {
  "kernelspec": {
   "display_name": "Python 3 (ipykernel)",
   "language": "python",
   "name": "python3"
  },
  "language_info": {
   "codemirror_mode": {
    "name": "ipython",
    "version": 3
   },
   "file_extension": ".py",
   "mimetype": "text/x-python",
   "name": "python",
   "nbconvert_exporter": "python",
   "pygments_lexer": "ipython3",
   "version": "3.11.3"
  }
 },
 "nbformat": 4,
 "nbformat_minor": 5
}
